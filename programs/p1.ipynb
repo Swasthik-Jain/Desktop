{
 "cells": [
  {
   "cell_type": "code",
   "execution_count": 7,
   "metadata": {},
   "outputs": [],
   "source": [
    "graph = {\n",
    "    'A':[('B', 2), ('E', 3)],\n",
    "    'B':[('C', 1), ('G', 9)],\n",
    "    'C':None,\n",
    "    'D':[('G', 1)],\n",
    "    'E':[('D', 6)],\n",
    "    'G': None\n",
    "}\n",
    "openList = []\n",
    "closedList = []\n",
    "parent = {}\n",
    "g = {} #f(n) = g(n) + h(n)\n",
    "heuristicValues = {\n",
    "    'A': 11,\n",
    "    'B': 6,\n",
    "    'C': 99,\n",
    "    'D': 1,\n",
    "    'E': 7,\n",
    "    'G': 0 \n",
    "}"
   ]
  },
  {
   "cell_type": "code",
   "execution_count": 8,
   "metadata": {},
   "outputs": [],
   "source": [
    "def h(n):\n",
    "    return heuristicValues.get(n, 0)"
   ]
  },
  {
   "cell_type": "code",
   "execution_count": 13,
   "metadata": {},
   "outputs": [],
   "source": [
    "def getChildren(n):\n",
    "    return graph.get(n, None)"
   ]
  },
  {
   "cell_type": "code",
   "execution_count": 11,
   "metadata": {},
   "outputs": [],
   "source": [
    "def AStar(startNode, stopNode):\n",
    "    openList.append(startNode)\n",
    "    g[startNode] = 0\n",
    "    parent[startNode] = startNode\n",
    "    #ol = B, E\n",
    "    while(len(openList) > 0):\n",
    "        node = None\n",
    "        for v in openList:\n",
    "            if node == None or g[v] + h(v) < g[node] + h(node):\n",
    "                node = v\n",
    "        if node is None:\n",
    "            return None\n",
    "        if node == stopNode:\n",
    "            path = []\n",
    "            while parent[node] != node:\n",
    "                path.append(node)\n",
    "                node = parent[node]\n",
    "            path.append(startNode)\n",
    "            path.reverse()\n",
    "            return path\n",
    "        for child, weight in getChildren(node):\n",
    "            parent[child] = node\n",
    "            if child not in [openList, closedList]: # if child not in openlist or child not in closedlist\n",
    "                openList.append(child)\n",
    "                g[child] = g[node] + weight\n",
    "            else:\n",
    "                if g[child] > g[node] + weight:\n",
    "                    g[child] = g[node] + weight\n",
    "                    if child in closedList:\n",
    "                        closedList.remove(child)\n",
    "                        openList.append(child)\n",
    "        openList.remove(node)\n",
    "        closedList.append(node)"
   ]
  },
  {
   "cell_type": "code",
   "execution_count": 14,
   "metadata": {},
   "outputs": [
    {
     "name": "stdout",
     "output_type": "stream",
     "text": [
      "['A', 'E', 'D', 'G']\n"
     ]
    }
   ],
   "source": [
    "res = AStar('A', 'G')\n",
    "if res is None:\n",
    "    print(\"No path exists\")\n",
    "else:\n",
    "    print(res)"
   ]
  }
 ],
 "metadata": {
  "kernelspec": {
   "display_name": "Python 3",
   "language": "python",
   "name": "python3"
  },
  "language_info": {
   "codemirror_mode": {
    "name": "ipython",
    "version": 3
   },
   "file_extension": ".py",
   "mimetype": "text/x-python",
   "name": "python",
   "nbconvert_exporter": "python",
   "pygments_lexer": "ipython3",
   "version": "3.10.0 (tags/v3.10.0:b494f59, Oct  4 2021, 19:00:18) [MSC v.1929 64 bit (AMD64)]"
  },
  "orig_nbformat": 4,
  "vscode": {
   "interpreter": {
    "hash": "f54b67cc2b0b5f35f9caf1b9f04c98fdda10ba61be4ae2a9f95103155e744fae"
   }
  }
 },
 "nbformat": 4,
 "nbformat_minor": 2
}
