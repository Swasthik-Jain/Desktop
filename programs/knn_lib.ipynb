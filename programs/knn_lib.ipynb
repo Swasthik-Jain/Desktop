{
 "cells": [
  {
   "cell_type": "code",
   "execution_count": 3,
   "id": "f258e7e7",
   "metadata": {},
   "outputs": [
    {
     "name": "stdout",
     "output_type": "stream",
     "text": [
      "iris dataset loaded\n",
      "Dataset is split into training and testing\n",
      "Size of training data and its label (135, 4) (135,)\n",
      "Size of testing data and its label (15, 4) (15,)\n",
      "Label 0 - setosa\n",
      "Label 1 - versicolor\n",
      "Label 2 - virginica\n",
      "Results of Classification using KNN with K = 5\n",
      "Sample: [7.3 2.9 6.3 1.8] Actual_label: 2 Predicted-label: 2\n",
      "Sample: [4.5 2.3 1.3 0.3] Actual_label: 0 Predicted-label: 0\n",
      "Sample: [5.9 3.2 4.8 1.8] Actual_label: 1 Predicted-label: 2\n",
      "Sample: [7.9 3.8 6.4 2. ] Actual_label: 2 Predicted-label: 2\n",
      "Sample: [6.5 3.  5.2 2. ] Actual_label: 2 Predicted-label: 2\n",
      "Sample: [5.  3.2 1.2 0.2] Actual_label: 0 Predicted-label: 0\n",
      "Sample: [6.3 2.3 4.4 1.3] Actual_label: 1 Predicted-label: 1\n",
      "Sample: [6.7 2.5 5.8 1.8] Actual_label: 2 Predicted-label: 2\n",
      "Sample: [4.9 2.5 4.5 1.7] Actual_label: 2 Predicted-label: 1\n",
      "Sample: [6.  2.7 5.1 1.6] Actual_label: 1 Predicted-label: 2\n",
      "Sample: [6.9 3.2 5.7 2.3] Actual_label: 2 Predicted-label: 2\n",
      "Sample: [6.7 3.1 4.4 1.4] Actual_label: 1 Predicted-label: 1\n",
      "Sample: [6.  3.4 4.5 1.6] Actual_label: 1 Predicted-label: 1\n",
      "Sample: [6.4 2.7 5.3 1.9] Actual_label: 2 Predicted-label: 2\n",
      "Sample: [6.  3.  4.8 1.8] Actual_label: 2 Predicted-label: 2\n",
      "Classification Accuracy: 0.8\n",
      "Confusion matrix\n",
      "[[2 0 0]\n",
      " [0 3 2]\n",
      " [0 1 7]]\n",
      "Accuracy metrics\n",
      "              precision    recall  f1-score   support\n",
      "\n",
      "           0       1.00      1.00      1.00         2\n",
      "           1       0.75      0.60      0.67         5\n",
      "           2       0.78      0.88      0.82         8\n",
      "\n",
      "    accuracy                           0.80        15\n",
      "   macro avg       0.84      0.83      0.83        15\n",
      "weighted avg       0.80      0.80      0.79        15\n",
      "\n"
     ]
    }
   ],
   "source": [
    "from sklearn.model_selection import train_test_split\n",
    "from sklearn.neighbors import KNeighborsClassifier\n",
    "from sklearn import datasets\n",
    "\n",
    "iris = datasets.load_iris()\n",
    "print(\"iris dataset loaded\")\n",
    "\n",
    "x_train, x_test, y_train, y_test = train_test_split(iris.data, iris.target, test_size = 0.1)\n",
    "print(\"Dataset is split into training and testing\")\n",
    "print(\"Size of training data and its label\", x_train.shape, y_train.shape)\n",
    "print(\"Size of testing data and its label\", x_test.shape, y_test.shape)\n",
    "\n",
    "for i in range(len(iris.target_names)):\n",
    "    print(\"Label\", i, \"-\", str(iris.target_names[i]))\n",
    "\n",
    "classifier = KNeighborsClassifier(n_neighbors = 5)\n",
    "\n",
    "classifier.fit(x_train, y_train)\n",
    "y_pred = classifier.predict(x_test)\n",
    "\n",
    "print(\"Results of Classification using KNN with K = 5\")\n",
    "for r in range(0, len(x_test)):\n",
    "    print(\"Sample:\", str(x_test[r]), \"Actual_label:\", str(y_test[r]), \"Predicted-label:\", str(y_pred[r]))\n",
    "print(\"Classification Accuracy:\", classifier.score(x_test, y_test));\n",
    "\n",
    "from sklearn.metrics import classification_report, confusion_matrix\n",
    "print(\"Confusion matrix\")\n",
    "print(confusion_matrix(y_test, y_pred))\n",
    "print(\"Accuracy metrics\")\n",
    "print(classification_report(y_test, y_pred))"
   ]
  },
  {
   "cell_type": "code",
   "execution_count": null,
   "id": "ed49123c",
   "metadata": {},
   "outputs": [],
   "source": []
  }
 ],
 "metadata": {
  "kernelspec": {
   "display_name": "Python 3.9.12 ('base')",
   "language": "python",
   "name": "python3"
  },
  "language_info": {
   "codemirror_mode": {
    "name": "ipython",
    "version": 3
   },
   "file_extension": ".py",
   "mimetype": "text/x-python",
   "name": "python",
   "nbconvert_exporter": "python",
   "pygments_lexer": "ipython3",
   "version": "3.9.12 (main, Apr  4 2022, 05:22:27) [MSC v.1916 64 bit (AMD64)]"
  },
  "vscode": {
   "interpreter": {
    "hash": "a66980593175ac20573b66fab266445cc4a2e5b3bda92c8e7d11a7c30ead3977"
   }
  }
 },
 "nbformat": 4,
 "nbformat_minor": 5
}
